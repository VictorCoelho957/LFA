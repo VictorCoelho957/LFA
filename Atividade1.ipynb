{
  "nbformat": 4,
  "nbformat_minor": 0,
  "metadata": {
    "colab": {
      "provenance": [],
      "authorship_tag": "ABX9TyNG9HhyRNus5uK8tU+YLXmi",
      "include_colab_link": true
    },
    "kernelspec": {
      "name": "python3",
      "display_name": "Python 3"
    },
    "language_info": {
      "name": "python"
    }
  },
  "cells": [
    {
      "cell_type": "markdown",
      "metadata": {
        "id": "view-in-github",
        "colab_type": "text"
      },
      "source": [
        "<a href=\"https://colab.research.google.com/github/VictorCoelho957/LFA/blob/main/Atividade1.ipynb\" target=\"_parent\"><img src=\"https://colab.research.google.com/assets/colab-badge.svg\" alt=\"Open In Colab\"/></a>"
      ]
    },
    {
      "cell_type": "markdown",
      "source": [
        "# Atividade 1 da disciplina de LINGUAGENS FORMAIS E AUTÔMATOS"
      ],
      "metadata": {
        "id": "ruR1Qc9HpEDy"
      }
    },
    {
      "cell_type": "markdown",
      "source": [
        "## INSTALAÇÕES DE BIBILOTECAS"
      ],
      "metadata": {
        "id": "Ub6qvLQSxdbU"
      }
    },
    {
      "cell_type": "code",
      "source": [
        "from google.colab import drive\n",
        "drive.mount('/content/drive')"
      ],
      "metadata": {
        "colab": {
          "base_uri": "https://localhost:8080/"
        },
        "id": "lCjoyvEGvbTo",
        "outputId": "334c4163-0fe7-45b9-af87-e92d88a57811"
      },
      "execution_count": null,
      "outputs": [
        {
          "output_type": "stream",
          "name": "stdout",
          "text": [
            "Mounted at /content/drive\n"
          ]
        }
      ]
    },
    {
      "cell_type": "code",
      "source": [
        "from google.colab import drive\n",
        "drive.mount('/content/drive')  # Monte o Drive\n",
        "!ls \"/content/drive/MyDrive/Colab Notebooks\"  # Liste os arquivos"
      ],
      "metadata": {
        "id": "29p2_g3DvP38"
      },
      "execution_count": null,
      "outputs": []
    },
    {
      "cell_type": "code",
      "source": [
        "from google.colab import files\n",
        "files.download('/content/drive/MyDrive/Colab Notebooks/Atividade1.ipynb')"
      ],
      "metadata": {
        "colab": {
          "base_uri": "https://localhost:8080/",
          "height": 17
        },
        "id": "woHHUZhOwBVR",
        "outputId": "2baaabea-f832-43ff-b25f-20d8c9a9bcbc"
      },
      "execution_count": null,
      "outputs": [
        {
          "output_type": "display_data",
          "data": {
            "text/plain": [
              "<IPython.core.display.Javascript object>"
            ],
            "application/javascript": [
              "\n",
              "    async function download(id, filename, size) {\n",
              "      if (!google.colab.kernel.accessAllowed) {\n",
              "        return;\n",
              "      }\n",
              "      const div = document.createElement('div');\n",
              "      const label = document.createElement('label');\n",
              "      label.textContent = `Downloading \"${filename}\": `;\n",
              "      div.appendChild(label);\n",
              "      const progress = document.createElement('progress');\n",
              "      progress.max = size;\n",
              "      div.appendChild(progress);\n",
              "      document.body.appendChild(div);\n",
              "\n",
              "      const buffers = [];\n",
              "      let downloaded = 0;\n",
              "\n",
              "      const channel = await google.colab.kernel.comms.open(id);\n",
              "      // Send a message to notify the kernel that we're ready.\n",
              "      channel.send({})\n",
              "\n",
              "      for await (const message of channel.messages) {\n",
              "        // Send a message to notify the kernel that we're ready.\n",
              "        channel.send({})\n",
              "        if (message.buffers) {\n",
              "          for (const buffer of message.buffers) {\n",
              "            buffers.push(buffer);\n",
              "            downloaded += buffer.byteLength;\n",
              "            progress.value = downloaded;\n",
              "          }\n",
              "        }\n",
              "      }\n",
              "      const blob = new Blob(buffers, {type: 'application/binary'});\n",
              "      const a = document.createElement('a');\n",
              "      a.href = window.URL.createObjectURL(blob);\n",
              "      a.download = filename;\n",
              "      div.appendChild(a);\n",
              "      a.click();\n",
              "      div.remove();\n",
              "    }\n",
              "  "
            ]
          },
          "metadata": {}
        },
        {
          "output_type": "display_data",
          "data": {
            "text/plain": [
              "<IPython.core.display.Javascript object>"
            ],
            "application/javascript": [
              "download(\"download_cb5158a9-c1fa-459e-851e-7d432c3760a2\", \"Atividade1.ipynb\", 28268)"
            ]
          },
          "metadata": {}
        }
      ]
    },
    {
      "cell_type": "code",
      "source": [
        "!apt-get update\n",
        "!apt-get install -y pandoc texlive-xetex texlive-fonts-recommended texlive-generic-recommended"
      ],
      "metadata": {
        "id": "E8NJiaWMwMko"
      },
      "execution_count": null,
      "outputs": []
    },
    {
      "cell_type": "code",
      "source": [
        "\n",
        "!cp \"/content/drive/MyDrive/Colab Notebooks/Atividade1.ipynb\" \"/content/\"\n",
        "\n",
        "!jupyter nbconvert --to pdf \"/content/Atividade1.ipynb\"\n",
        "\n",
        "!ls -l \"/content/Atividade1.pdf\"\n",
        "\n",
        "from google.colab import files\n",
        "files.download('/content/Atividade1.pdf')"
      ],
      "metadata": {
        "colab": {
          "base_uri": "https://localhost:8080/",
          "height": 173
        },
        "id": "NKsaVTVdwt4s",
        "outputId": "4484c62f-119d-4bab-bb54-5ccb58a7141a"
      },
      "execution_count": null,
      "outputs": [
        {
          "output_type": "stream",
          "name": "stdout",
          "text": [
            "[NbConvertApp] Converting notebook /content/Atividade1.ipynb to pdf\n",
            "[NbConvertApp] Writing 42108 bytes to notebook.tex\n",
            "[NbConvertApp] Building PDF\n",
            "[NbConvertApp] Running xelatex 3 times: ['xelatex', 'notebook.tex', '-quiet']\n",
            "[NbConvertApp] Running bibtex 1 time: ['bibtex', 'notebook']\n",
            "[NbConvertApp] WARNING | bibtex had problems, most likely because there were no citations\n",
            "[NbConvertApp] PDF successfully created\n",
            "[NbConvertApp] Writing 48495 bytes to /content/Atividade1.pdf\n",
            "-rw-r--r-- 1 root root 48495 Apr 20 20:00 /content/Atividade1.pdf\n"
          ]
        },
        {
          "output_type": "display_data",
          "data": {
            "text/plain": [
              "<IPython.core.display.Javascript object>"
            ],
            "application/javascript": [
              "\n",
              "    async function download(id, filename, size) {\n",
              "      if (!google.colab.kernel.accessAllowed) {\n",
              "        return;\n",
              "      }\n",
              "      const div = document.createElement('div');\n",
              "      const label = document.createElement('label');\n",
              "      label.textContent = `Downloading \"${filename}\": `;\n",
              "      div.appendChild(label);\n",
              "      const progress = document.createElement('progress');\n",
              "      progress.max = size;\n",
              "      div.appendChild(progress);\n",
              "      document.body.appendChild(div);\n",
              "\n",
              "      const buffers = [];\n",
              "      let downloaded = 0;\n",
              "\n",
              "      const channel = await google.colab.kernel.comms.open(id);\n",
              "      // Send a message to notify the kernel that we're ready.\n",
              "      channel.send({})\n",
              "\n",
              "      for await (const message of channel.messages) {\n",
              "        // Send a message to notify the kernel that we're ready.\n",
              "        channel.send({})\n",
              "        if (message.buffers) {\n",
              "          for (const buffer of message.buffers) {\n",
              "            buffers.push(buffer);\n",
              "            downloaded += buffer.byteLength;\n",
              "            progress.value = downloaded;\n",
              "          }\n",
              "        }\n",
              "      }\n",
              "      const blob = new Blob(buffers, {type: 'application/binary'});\n",
              "      const a = document.createElement('a');\n",
              "      a.href = window.URL.createObjectURL(blob);\n",
              "      a.download = filename;\n",
              "      div.appendChild(a);\n",
              "      a.click();\n",
              "      div.remove();\n",
              "    }\n",
              "  "
            ]
          },
          "metadata": {}
        },
        {
          "output_type": "display_data",
          "data": {
            "text/plain": [
              "<IPython.core.display.Javascript object>"
            ],
            "application/javascript": [
              "download(\"download_eab67d6d-0ffb-45d3-9d4b-e7051adb574d\", \"Atividade1.pdf\", 48495)"
            ]
          },
          "metadata": {}
        }
      ]
    },
    {
      "cell_type": "markdown",
      "source": [
        "## RESOLUÇÕES:"
      ],
      "metadata": {
        "id": "J_eDi5t_xUa_"
      }
    },
    {
      "cell_type": "markdown",
      "source": [
        "1. Listagem de Elementos de um Conjunto\n",
        "Como você pode representar o conjunto ( V = {a, e, i, o, u} ) em Python e imprimir seus elementos?"
      ],
      "metadata": {
        "id": "hQ5eAV_co8vH"
      }
    },
    {
      "cell_type": "code",
      "source": [
        "V = {'a', 'e', 'i', 'o', 'u'}\n",
        "print(\"Elementos do conjunto V:\", V)"
      ],
      "metadata": {
        "colab": {
          "base_uri": "https://localhost:8080/"
        },
        "id": "PycOoMXBo4DU",
        "outputId": "c16d6574-bb25-48b2-ba42-e6f199774daa"
      },
      "execution_count": null,
      "outputs": [
        {
          "output_type": "stream",
          "name": "stdout",
          "text": [
            "Elementos do conjunto V: {'i', 'a', 'o', 'e', 'u'}\n"
          ]
        }
      ]
    },
    {
      "cell_type": "markdown",
      "source": [
        "2.  Dado o conjunto ( V = {a, e, i, o, u} ), como você pode verificar se o elemento 'a' está presente em ( V )?\n",
        "\n"
      ],
      "metadata": {
        "id": "JoZpGo6hpCU1"
      }
    },
    {
      "cell_type": "code",
      "source": [
        "V = {'a', 'e', 'i', 'o', 'u'}\n",
        "print(\"'a' está em V?\", 'a' in V)  # Retorna True\n",
        "print(\"'b' está em V?\", 'b' in V)  # Retorna False"
      ],
      "metadata": {
        "colab": {
          "base_uri": "https://localhost:8080/"
        },
        "id": "4pKXXH0yo-so",
        "outputId": "c6699047-a88e-4980-c7b6-dfc25e83473b"
      },
      "execution_count": null,
      "outputs": [
        {
          "output_type": "stream",
          "name": "stdout",
          "text": [
            "'a' está em V? True\n",
            "'b' está em V? False\n"
          ]
        }
      ]
    },
    {
      "cell_type": "markdown",
      "source": [
        "3. Criação de um Conjunto com Propriedades Específicas\n"
      ],
      "metadata": {
        "id": "iT5CdtJPpZK3"
      }
    },
    {
      "cell_type": "code",
      "source": [
        "B = {x for x in range(11, 20) if x % 2 == 0}\n",
        "B = set(range(12, 20, 2))\n",
        "print(\"Conjunto B:\", B)"
      ],
      "metadata": {
        "colab": {
          "base_uri": "https://localhost:8080/"
        },
        "id": "J9Q39Nz3paqJ",
        "outputId": "cc054791-740c-4427-d828-bb03b8dc9472"
      },
      "execution_count": null,
      "outputs": [
        {
          "output_type": "stream",
          "name": "stdout",
          "text": [
            "Conjunto B: {16, 18, 12, 14}\n"
          ]
        }
      ]
    },
    {
      "cell_type": "markdown",
      "source": [
        "4. Se ( V = {a, e, i, o, u} ) e ( C = {i, o, u} ), como você pode verificar se todos os elementos de ( C ) também estão em ( V )?\n",
        "\n"
      ],
      "metadata": {
        "id": "oQeYO9Qppb65"
      }
    },
    {
      "cell_type": "code",
      "source": [
        "V = {'a', 'e', 'i', 'o', 'u'}\n",
        "C = {'i', 'o', 'u'}\n",
        "print(\"C é subconjunto de V?\", C.issubset(V))  # Retorna True\n",
        "print(\"C está contido em V?\", C <= V)  # Retorna True"
      ],
      "metadata": {
        "colab": {
          "base_uri": "https://localhost:8080/"
        },
        "id": "r7xb-7rvpjW5",
        "outputId": "ea464f50-e639-4b79-b340-ebc8c31a8484"
      },
      "execution_count": null,
      "outputs": [
        {
          "output_type": "stream",
          "name": "stdout",
          "text": [
            "C é subconjunto de V? True\n",
            "C está contido em V? True\n"
          ]
        }
      ]
    },
    {
      "cell_type": "markdown",
      "source": [
        "5. Como você pode representar um conjunto ( D ) em Python que contém todos os números inteiros de 1 a 10 que são divisíveis por 3?\n",
        "\n"
      ],
      "metadata": {
        "id": "WKDBCVX6pj2i"
      }
    },
    {
      "cell_type": "code",
      "source": [
        "D = {x for x in range(1, 11) if x % 3 == 0}\n",
        "print(\"Conjunto D:\", D)  # {3, 6, 9}"
      ],
      "metadata": {
        "colab": {
          "base_uri": "https://localhost:8080/"
        },
        "id": "xp5o3lBLplSq",
        "outputId": "7964abac-1dd4-4fae-d17f-c36ed0246f27"
      },
      "execution_count": null,
      "outputs": [
        {
          "output_type": "stream",
          "name": "stdout",
          "text": [
            "Conjunto D: {9, 3, 6}\n"
          ]
        }
      ]
    },
    {
      "cell_type": "markdown",
      "source": [
        "6. Dados dois conjuntos ( A = {1, 2, 3} ) e ( B = {3, 4, 5} ), como você pode obter a união de ( A ) e ( B )?\n",
        "\n"
      ],
      "metadata": {
        "id": "KfoEtpgipnZG"
      }
    },
    {
      "cell_type": "code",
      "source": [
        "A = {1, 2, 3}\n",
        "B = {3, 4, 5}\n",
        "uniao = A.union(B)\n",
        "# Ou alternativamente:\n",
        "uniao = A | B\n",
        "print(\"União de A e B:\", uniao)  # {1, 2, 3, 4, 5}"
      ],
      "metadata": {
        "colab": {
          "base_uri": "https://localhost:8080/"
        },
        "id": "a3KJbYx3poFv",
        "outputId": "e0217386-1cc8-4387-ef7c-4f53323eb5a4"
      },
      "execution_count": null,
      "outputs": [
        {
          "output_type": "stream",
          "name": "stdout",
          "text": [
            "União de A e B: {1, 2, 3, 4, 5}\n"
          ]
        }
      ]
    },
    {
      "cell_type": "markdown",
      "source": [
        "7. Dado os conjuntos ( A = {1, 2, 3} ) e ( B = {3, 4, 5} ), como você pode encontrar a interseção entre ( A ) e ( B )?\n",
        "\n"
      ],
      "metadata": {
        "id": "olaosSZSpobu"
      }
    },
    {
      "cell_type": "code",
      "source": [
        "A = {1, 2, 3}\n",
        "B = {3, 4, 5}\n",
        "intersecao = A.intersection(B)\n",
        "# Ou alternativamente:\n",
        "intersecao = A & B\n",
        "print(\"Interseção de A e B:\", intersecao)  # {3}"
      ],
      "metadata": {
        "colab": {
          "base_uri": "https://localhost:8080/"
        },
        "id": "CZV4Gjn7psVu",
        "outputId": "ab3137ec-6d3e-40a3-cff6-c7d08bdb6a8d"
      },
      "execution_count": null,
      "outputs": [
        {
          "output_type": "stream",
          "name": "stdout",
          "text": [
            "Interseção de A e B: {3}\n"
          ]
        }
      ]
    },
    {
      "cell_type": "markdown",
      "source": [
        "8. Como você pode determinar os elementos que estão em ( A = {1, 2, 3} ) mas não estão em ( B = {3, 4, 5} )?\n",
        "\n"
      ],
      "metadata": {
        "id": "l4tWZ7ULpvWe"
      }
    },
    {
      "cell_type": "code",
      "source": [
        "A = {1, 2, 3}\n",
        "B = {3, 4, 5}\n",
        "diferenca = A.difference(B)\n",
        "diferenca = A - B\n",
        "print(\"Diferença A - B:\", diferenca)  # {1, 2}"
      ],
      "metadata": {
        "colab": {
          "base_uri": "https://localhost:8080/"
        },
        "id": "-JUpGifmpwcq",
        "outputId": "a2e6f2ff-cf06-4544-a33b-7be2c49c4e6c"
      },
      "execution_count": null,
      "outputs": [
        {
          "output_type": "stream",
          "name": "stdout",
          "text": [
            "Diferença A - B: {1, 2}\n"
          ]
        }
      ]
    },
    {
      "cell_type": "markdown",
      "source": [
        "9. Se ( A = {1, 2, 3} ) e ( B = {3, 4, 5} ), como você pode obter a diferença simétrica entre ( A ) e ( B )?\n",
        "\n"
      ],
      "metadata": {
        "id": "L_3F8jBdpzN6"
      }
    },
    {
      "cell_type": "code",
      "source": [
        "A = {1, 2, 3}\n",
        "B = {3, 4, 5}\n",
        "diff_simetrica = A.symmetric_difference(B)\n",
        "diff_simetrica = A ^ B\n",
        "print(\"Diferença simétrica:\", diff_simetrica)  # {1, 2, 4, 5}"
      ],
      "metadata": {
        "colab": {
          "base_uri": "https://localhost:8080/"
        },
        "id": "FhRgmFfip3Ty",
        "outputId": "3f913297-7d67-4aa0-d900-afbaed96d970"
      },
      "execution_count": null,
      "outputs": [
        {
          "output_type": "stream",
          "name": "stdout",
          "text": [
            "Diferença simétrica: {1, 2, 4, 5}\n"
          ]
        }
      ]
    },
    {
      "cell_type": "markdown",
      "source": [
        "10. Dado ( A = {1, 2, 3} ) e ( B = {1, 2, 3, 4, 5} ), como você pode verificar se ( A ) é um subconjunto de ( B ) e se ( B ) é um superconjunto de ( A )?\n",
        "\n"
      ],
      "metadata": {
        "id": "WZ5vkhOep6mO"
      }
    },
    {
      "cell_type": "code",
      "source": [
        "A = {1, 2, 3}\n",
        "B = {1, 2, 3, 4, 5}\n",
        "print(\"A é subconjunto de B?\", A.issubset(B))  # True\n",
        "print(\"B é superconjunto de A?\", B.issuperset(A))  # True\n",
        "print(\"A <= B?\", A <= B)  # True\n",
        "print(\"B >= A?\", B >= A)  # True"
      ],
      "metadata": {
        "colab": {
          "base_uri": "https://localhost:8080/"
        },
        "id": "lrfoexPqp7Xu",
        "outputId": "1ff27980-28cb-4066-e1bf-65e6644f5842"
      },
      "execution_count": null,
      "outputs": [
        {
          "output_type": "stream",
          "name": "stdout",
          "text": [
            "A é subconjunto de B? True\n",
            "B é superconjunto de A? True\n",
            "A <= B? True\n",
            "B >= A? True\n"
          ]
        }
      ]
    },
    {
      "cell_type": "markdown",
      "source": [
        "11. Números Pares Maiores que 10\n"
      ],
      "metadata": {
        "id": "5DcxadaRp_Z9"
      }
    },
    {
      "cell_type": "code",
      "source": [
        "pares_maiores_10 = {x for x in range(11, 100) if x % 2 == 0}\n",
        "print(\"Números pares > 10:\", pares_maiores_10)"
      ],
      "metadata": {
        "colab": {
          "base_uri": "https://localhost:8080/"
        },
        "id": "ZuvpJx6wqAT5",
        "outputId": "36deb88a-9721-4adf-c9b8-873cfb1e2633"
      },
      "execution_count": null,
      "outputs": [
        {
          "output_type": "stream",
          "name": "stdout",
          "text": [
            "Números pares > 10: {12, 14, 16, 18, 20, 22, 24, 26, 28, 30, 32, 34, 36, 38, 40, 42, 44, 46, 48, 50, 52, 54, 56, 58, 60, 62, 64, 66, 68, 70, 72, 74, 76, 78, 80, 82, 84, 86, 88, 90, 92, 94, 96, 98}\n"
          ]
        }
      ]
    },
    {
      "cell_type": "markdown",
      "source": [
        "12. Números Primos Menores que 20\n"
      ],
      "metadata": {
        "id": "k2CXI7w_qDRd"
      }
    },
    {
      "cell_type": "code",
      "source": [
        "def is_prime(n):\n",
        "    if n < 2:\n",
        "        return False\n",
        "    for i in range(2, int(n**0.5)+1):\n",
        "        if n % i == 0:\n",
        "            return False\n",
        "    return True\n",
        "\n",
        "primos_menor_20 = {x for x in range(2, 20) if is_prime(x)}\n",
        "print(\"Números primos < 20:\", primos_menor_20)  # {2, 3, 5, 7, 11, 13, 17, 19}"
      ],
      "metadata": {
        "colab": {
          "base_uri": "https://localhost:8080/"
        },
        "id": "1vTb6XquqCT_",
        "outputId": "40bc4da8-1046-4530-b446-a3ccb44a3926"
      },
      "execution_count": null,
      "outputs": [
        {
          "output_type": "stream",
          "name": "stdout",
          "text": [
            "Números primos < 20: {2, 3, 5, 7, 11, 13, 17, 19}\n"
          ]
        }
      ]
    },
    {
      "cell_type": "markdown",
      "source": [
        "13. Números Ímpares Divisíveis por 3 até 30\n"
      ],
      "metadata": {
        "id": "sTHSCdDQqEvn"
      }
    },
    {
      "cell_type": "code",
      "source": [
        "impares_div3 = {x for x in range(1, 31) if x % 2 != 0 and x % 3 == 0}\n",
        "print(\"Ímpares divisíveis por 3 até 30:\", impares_div3)  # {3, 9, 15, 21, 27}"
      ],
      "metadata": {
        "colab": {
          "base_uri": "https://localhost:8080/"
        },
        "id": "XX5AR53TqHSQ",
        "outputId": "437b8c8e-2945-4fcf-df69-7f9ef77cdf11"
      },
      "execution_count": null,
      "outputs": [
        {
          "output_type": "stream",
          "name": "stdout",
          "text": [
            "Ímpares divisíveis por 3 até 30: {3, 9, 15, 21, 27}\n"
          ]
        }
      ]
    },
    {
      "cell_type": "markdown",
      "source": [
        "14. Quadrados Perfeitos Menores que 100\n"
      ],
      "metadata": {
        "id": "5-XK1wo3qJiX"
      }
    },
    {
      "cell_type": "code",
      "source": [
        "quadrados_perfeitos = {x**2 for x in range(1, 10)}  # 10² = 100 (não incluso)\n",
        "print(\"Quadrados perfeitos < 100:\", quadrados_perfeitos)  # {1, 4, 9, 16, 25, 36, 49, 64, 81}"
      ],
      "metadata": {
        "colab": {
          "base_uri": "https://localhost:8080/"
        },
        "id": "lj7gQqoVqKbV",
        "outputId": "22175282-7020-40da-9540-115a00585bae"
      },
      "execution_count": null,
      "outputs": [
        {
          "output_type": "stream",
          "name": "stdout",
          "text": [
            "Quadrados perfeitos < 100: {64, 1, 4, 36, 9, 16, 49, 81, 25}\n"
          ]
        }
      ]
    },
    {
      "cell_type": "markdown",
      "source": [
        "15. Múltiplos de 5 entre 10 e 50\n"
      ],
      "metadata": {
        "id": "wfYLV39xqKyF"
      }
    },
    {
      "cell_type": "code",
      "source": [
        "multiplos_de_5 = set(range(10, 51, 5))\n",
        "print(\"Múltiplos de 5 entre 10 e 50:\", multiplos_de_5)  # {10, 15, 20, 25, 30, 35, 40, 45, 50}"
      ],
      "metadata": {
        "colab": {
          "base_uri": "https://localhost:8080/"
        },
        "id": "uygjAddIqOme",
        "outputId": "289f6d10-7294-4b7d-8d54-c714dcdfeb19"
      },
      "execution_count": null,
      "outputs": [
        {
          "output_type": "stream",
          "name": "stdout",
          "text": [
            "Múltiplos de 5 entre 10 e 50: {35, 40, 10, 45, 15, 50, 20, 25, 30}\n"
          ]
        }
      ]
    }
  ]
}